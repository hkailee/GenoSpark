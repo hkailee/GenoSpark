{
 "cells": [
  {
   "cell_type": "markdown",
   "metadata": {},
   "source": [
    "# Singapore population genotypic frequency\n",
    "\n",
    "## First, generate the output files with the command syntax below:\n",
    "```\n",
    "$ vcftools --gzvcf chr[#].consolidate.eff.PPH.vcf.gz --freq --chr [#] --out chr[#]_analysis\n",
    "$ bcftools query -f '%CHROM\\t%POS\\t%ID\\n' chr[#].consolidate.eff.PPH.vcf.gz -o chr[#]_rsID\n",
    "```"
   ]
  },
  {
   "cell_type": "code",
   "execution_count": 1,
   "metadata": {
    "collapsed": true
   },
   "outputs": [],
   "source": [
    "#!/usr/bin/env python3.4\n",
    "\n",
    "__author__ = 'mdc_hk'\n",
    "version = '1.0'\n",
    "\n",
    "# Description: To build the database on the pyspark DataFrame\n",
    "# Usage: -\n",
    "# Example: -"
   ]
  },
  {
   "cell_type": "code",
   "execution_count": 2,
   "metadata": {
    "collapsed": true
   },
   "outputs": [],
   "source": [
    "# Specify schemas\n",
    "import pyspark.sql.types as typ\n",
    "\n",
    "schema_Freq = typ.StructType([\n",
    "    typ.StructField(\"CHROM\", typ.IntegerType(), False),\n",
    "    typ.StructField(\"POS\", typ.IntegerType(), False),\n",
    "    typ.StructField(\"N_ALLELES\", typ.IntegerType(), False),\n",
    "    typ.StructField(\"N_CHR\", typ.IntegerType(), False),\n",
    "    typ.StructField(\"ALLELE_FREQ_1\", typ.StringType(), False),\n",
    "    typ.StructField(\"ALLELE_FREQ_2\", typ.StringType(), False),\n",
    "])\n",
    "\n",
    "schema_rsID = typ.StructType([\n",
    "    typ.StructField(\"CHROM\", typ.IntegerType(), False),\n",
    "    typ.StructField(\"POS\", typ.IntegerType(), False),\n",
    "    typ.StructField(\"ID\", typ.StringType(), True),\n",
    "])\n",
    "\n",
    "schema_Freq_DF = typ.StructType([\n",
    "    typ.StructField(\"CHROM\", typ.IntegerType(), False),\n",
    "    typ.StructField(\"POS\", typ.IntegerType(), False),\n",
    "    typ.StructField(\"N_ALLELES\", typ.IntegerType(), False),\n",
    "    typ.StructField(\"N_CHR\", typ.IntegerType(), False),\n",
    "    typ.StructField(\"ALLELE_FREQ_1\", typ.StringType(), False),\n",
    "    typ.StructField(\"ALLELE_FREQ_2\", typ.StringType(), False),\n",
    "    typ.StructField(\"ID\", typ.StringType(), True),\n",
    "])\n"
   ]
  },
  {
   "cell_type": "code",
   "execution_count": 3,
   "metadata": {},
   "outputs": [
    {
     "name": "stdout",
     "output_type": "stream",
     "text": [
      "[['chr11'], ['chr1'], ['chr10'], ['chr9'], ['chr2'], ['chr3'], ['chr4'], ['chr5'], ['chr6'], ['chr7'], ['chr8'], ['chr12'], ['chr13'], ['chr14'], ['chr15'], ['chr16'], ['chr17'], ['chr18'], ['chr19'], ['chr20'], ['chr21'], ['chr22']]\n"
     ]
    }
   ],
   "source": [
    "# Setting up File Paths and Lists\n",
    "\n",
    "import datetime, multiprocessing, os, re, shutil, sys, subprocess, time, logging\n",
    "\n",
    "workingFolder = os.getcwd()\n",
    "\n",
    "# Filing number of unique samples found in the working folder...\n",
    "freqFiles = [f for f in os.listdir(workingFolder) if re.match(r'chr\\d+_analysis\\.frq', f)]\n",
    "rsIDFiles = [f for f in os.listdir(workingFolder) if re.match(r'chr\\d+_rsID', f)]\n",
    "\n",
    "freqFilesID_pre = re.compile(r'(chr\\d+)_analysis\\.frq')\n",
    "freqFilesID = []\n",
    "for file in freqFiles:\n",
    "    freqFilesID.append(freqFilesID_pre.findall(file))\n",
    "\n",
    "print(freqFilesID)"
   ]
  },
  {
   "cell_type": "code",
   "execution_count": 5,
   "metadata": {
    "scrolled": true
   },
   "outputs": [
    {
     "name": "stdout",
     "output_type": "stream",
     "text": [
      "+---------+-----+-------------+-------------+\n",
      "|       ID|CHROM|ALLELE_FREQ_1|ALLELE_FREQ_2|\n",
      "+---------+-----+-------------+-------------+\n",
      "|rs4109479|   11|  C:0.0434783|   T:0.956522|\n",
      "+---------+-----+-------------+-------------+\n",
      "\n"
     ]
    }
   ],
   "source": [
    "# Obtain dataset\n",
    "\n",
    "# suffixFreqID = ['_analysis.frq', '_rsID']\n",
    "freqDF = spark.createDataFrame([], schema_Freq_DF)\n",
    "\n",
    "for ID in freqFilesID:\n",
    "    df1 = spark.read.csv(ID[0] + \"_analysis.frq\", header=True, schema=schema_Freq, sep='\\t').alias('df1')\n",
    "    df2 = spark.read.csv(ID[0] + \"_rsID\", header=False, schema=schema_rsID, sep='\\t').alias('df2')\n",
    "    freqChrN_working = df2.join(df1, df2.POS == df1.POS).select('df1.*','df2.ID')\n",
    "    freqDF = freqDF.union(freqChrN_working)\n",
    "\n",
    "# freqDF.show(10)\n",
    "freqDF.select(\"ID\", \"CHROM\", \"ALLELE_FREQ_1\", \"ALLELE_FREQ_2\").filter(\"ID == 'rs4109479'\").show()"
   ]
  },
  {
   "cell_type": "code",
   "execution_count": 224,
   "metadata": {
    "collapsed": true
   },
   "outputs": [],
   "source": [
    "# Set File Paths\n",
    "\n",
    "filePathFreqIndianChr1 = \"chr1_analysis.frq\"\n",
    "filePathFreqIndianChr1_rsID = \"chr1_rsID\"\n",
    "\n",
    "filePathFreqIndianChr2 = \"chr2_analysis.frq\"\n",
    "filePathFreqIndianChr2_rsID = \"chr2_rsID\"\n",
    "\n",
    "filePathFreqIndianChr9 = \"chr9_analysis.frq\"\n",
    "filePathFreqIndianChr9_rsID = \"chr9_rsID\"\n",
    "\n",
    "filePathFreqIndianChr10 = \"chr10_analysis.frq\"\n",
    "filePathFreqIndianChr10_rsID = \"chr10_rsID\"\n",
    "\n",
    "filePathFreqIndianChr11 = \"chr11_analysis.frq\"\n",
    "filePathFreqIndianChr11_rsID = \"chr11_rsID\""
   ]
  },
  {
   "cell_type": "code",
   "execution_count": 226,
   "metadata": {
    "collapsed": true
   },
   "outputs": [],
   "source": [
    "# Obtain dataset\n",
    "\n",
    "freqIndianChr1 = spark.read.csv(filePathFreqIndianChr1, header=True, schema=schema_FreqIndianChr, sep='\\t')\n",
    "freqIndianChr1.createOrReplaceTempView(\"freqIndianChr1\")\n",
    "freqIndianChr1_rsID = spark.read.csv(filePathFreqIndianChr1_rsID, header=False, schema=schema_FreqIndianChr_rsID, sep='\\t')\n",
    "freqIndianChr1_rsID.createOrReplaceTempView(\"freqIndianChr1_rsID\")\n",
    "\n",
    "freqIndianChr2 = spark.read.csv(filePathFreqIndianChr2, header=True, schema=schema_FreqIndianChr, sep='\\t')\n",
    "freqIndianChr2.createOrReplaceTempView(\"freqIndianChr2\")\n",
    "freqIndianChr2_rsID = spark.read.csv(filePathFreqIndianChr2_rsID, header=False, schema=schema_FreqIndianChr_rsID, sep='\\t')\n",
    "freqIndianChr2_rsID.createOrReplaceTempView(\"freqIndianChr2_rsID\")\n",
    "\n",
    "freqIndianChr9 = spark.read.csv(filePathFreqIndianChr9, header=True, schema=schema_FreqIndianChr, sep='\\t')\n",
    "freqIndianChr9.createOrReplaceTempView(\"freqIndianChr9\")\n",
    "freqIndianChr9_rsID = spark.read.csv(filePathFreqIndianChr9_rsID, header=False, schema=schema_FreqIndianChr_rsID, sep='\\t')\n",
    "freqIndianChr9_rsID.createOrReplaceTempView(\"freqIndianChr9_rsID\")\n",
    "\n",
    "freqIndianChr10 = spark.read.csv(filePathFreqIndianChr10, header=True, schema=schema_FreqIndianChr, sep='\\t')\n",
    "freqIndianChr10.createOrReplaceTempView(\"freqIndianChr10\")\n",
    "freqIndianChr10_rsID = spark.read.csv(filePathFreqIndianChr10_rsID, header=False, schema=schema_FreqIndianChr_rsID, sep='\\t')\n",
    "freqIndianChr10_rsID.createOrReplaceTempView(\"freqIndianChr10_rsID\")\n",
    "\n",
    "freqIndianChr11 = spark.read.csv(filePathFreqIndianChr11, header=True, schema=schema_FreqIndianChr, sep='\\t')\n",
    "freqIndianChr11.createOrReplaceTempView(\"freqIndianChr11\")\n",
    "freqIndianChr11_rsID = spark.read.csv(filePathFreqIndianChr11_rsID, header=False, schema=schema_FreqIndianChr_rsID, sep='\\t')\n",
    "freqIndianChr11_rsID.createOrReplaceTempView(\"freqIndianChr11_rsID\")"
   ]
  },
  {
   "cell_type": "code",
   "execution_count": 212,
   "metadata": {},
   "outputs": [
    {
     "name": "stdout",
     "output_type": "stream",
     "text": [
      "+-----+------+---------+-----+-------------+-------------+\n",
      "|CHROM|   POS|N_ALLELES|N_CHR|ALLELE_FREQ_1|ALLELE_FREQ_2|\n",
      "+-----+------+---------+-----+-------------+-------------+\n",
      "|   10| 94426|        2|   72|   C:0.680556|   T:0.319444|\n",
      "|   10|119679|        2|   72|   G:0.986111|  T:0.0138889|\n",
      "|   10|121816|        2|   72|   T:0.708333|   C:0.291667|\n",
      "|   10|122217|        2|   72|   G:0.930556|  T:0.0694444|\n",
      "|   10|124381|        2|   72|   A:0.680556|   G:0.319444|\n",
      "|   10|124490|        2|   72|   C:0.986111|  T:0.0138889|\n",
      "|   10|124703|        2|   72|   C:0.930556|  T:0.0694444|\n",
      "|   10|124729|        2|   72|   A:0.930556|  C:0.0694444|\n",
      "|   10|125008|        2|   72|   G:0.333333|   C:0.666667|\n",
      "|   10|125009|        2|   72|   G:0.333333|   A:0.666667|\n",
      "+-----+------+---------+-----+-------------+-------------+\n",
      "only showing top 10 rows\n",
      "\n",
      "+-----+------+---------+-----+-------------+-------------+\n",
      "|CHROM|   POS|N_ALLELES|N_CHR|ALLELE_FREQ_1|ALLELE_FREQ_2|\n",
      "+-----+------+---------+-----+-------------+-------------+\n",
      "|   10| 94426|        2|   72|   C:0.680556|   T:0.319444|\n",
      "|   10|119679|        2|   72|   G:0.986111|  T:0.0138889|\n",
      "|   10|121816|        2|   72|   T:0.708333|   C:0.291667|\n",
      "|   10|122217|        2|   72|   G:0.930556|  T:0.0694444|\n",
      "|   10|124381|        2|   72|   A:0.680556|   G:0.319444|\n",
      "|   10|124490|        2|   72|   C:0.986111|  T:0.0138889|\n",
      "|   10|124703|        2|   72|   C:0.930556|  T:0.0694444|\n",
      "|   10|124729|        2|   72|   A:0.930556|  C:0.0694444|\n",
      "|   10|125008|        2|   72|   G:0.333333|   C:0.666667|\n",
      "|   10|125009|        2|   72|   G:0.333333|   A:0.666667|\n",
      "+-----+------+---------+-----+-------------+-------------+\n",
      "only showing top 10 rows\n",
      "\n",
      "+-----+------+-----------+\n",
      "|CHROM|   POS|         ID|\n",
      "+-----+------+-----------+\n",
      "|   11|103739|          .|\n",
      "|   11|104469| SSPM_MATCH|\n",
      "|   11|105023|          .|\n",
      "|   11|105073|          .|\n",
      "|   11|111159|          .|\n",
      "|   11|124986| SSPM_MATCH|\n",
      "|   11|150695| SSPM_MATCH|\n",
      "|   11|153453|rs187516525|\n",
      "|   11|158635|  rs4109479|\n",
      "|   11|191770| SSPM_MATCH|\n",
      "+-----+------+-----------+\n",
      "only showing top 10 rows\n",
      "\n"
     ]
    }
   ],
   "source": [
    "freqIndianChr10.show(10)\n",
    "spark.sql(\"select * from freqIndianChr10\").show(10)\n",
    "freqIndianChr11_rsID.show(10)\n",
    "# freqChr11Indian.printSchema()\n",
    "# freqChr11Indian.count()"
   ]
  },
  {
   "cell_type": "code",
   "execution_count": 228,
   "metadata": {
    "collapsed": true
   },
   "outputs": [],
   "source": [
    "df1 = freqIndianChr1.alias('df1')\n",
    "df2 = freqIndianChr1_rsID.alias('df2')\n",
    "freqIndianChr1_working = df2.join(df1, df2.POS == df1.POS).select('df1.*','df2.ID')\n",
    "\n",
    "df1 = freqIndianChr2.alias('df1')\n",
    "df2 = freqIndianChr2_rsID.alias('df2')\n",
    "freqIndianChr2_working = df2.join(df1, df2.POS == df1.POS).select('df1.*','df2.ID')\n",
    "\n",
    "df1 = freqIndianChr9.alias('df1')\n",
    "df2 = freqIndianChr9_rsID.alias('df2')\n",
    "freqIndianChr9_working = df2.join(df1, df2.POS == df1.POS).select('df1.*','df2.ID')\n",
    "\n",
    "df1 = freqIndianChr10.alias('df1')\n",
    "df2 = freqIndianChr10_rsID.alias('df2')\n",
    "freqIndianChr10_working = df2.join(df1, df2.POS == df1.POS).select('df1.*','df2.ID')\n",
    "\n",
    "df1 = freqIndianChr11.alias('df1')\n",
    "df2 = freqIndianChr11_rsID.alias('df2')\n",
    "freqIndianChr11_working = df2.join(df1, df2.POS == df1.POS).select('df1.*','df2.ID')"
   ]
  },
  {
   "cell_type": "code",
   "execution_count": 233,
   "metadata": {},
   "outputs": [
    {
     "name": "stdout",
     "output_type": "stream",
     "text": [
      "Count of rows: 1613116\n",
      "Count of rows: 2041955\n",
      "Count of rows: 2561843\n",
      "Count of rows: 3055143\n",
      "root\n",
      " |-- CHROM: integer (nullable = true)\n",
      " |-- POS: integer (nullable = true)\n",
      " |-- N_ALLELES: integer (nullable = true)\n",
      " |-- N_CHR: integer (nullable = true)\n",
      " |-- ALLELE_FREQ_1: string (nullable = true)\n",
      " |-- ALLELE_FREQ_2: string (nullable = true)\n",
      " |-- ID: string (nullable = true)\n",
      "\n"
     ]
    }
   ],
   "source": [
    "freqIndian = freqIndianChr1_working.unionAll(freqIndianChr2_working)\n",
    "print('Count of rows: {0}'.format(freqIndian.count()))\n",
    "freqIndian = freqIndian.unionAll(freqIndianChr9_working)\n",
    "print('Count of rows: {0}'.format(freqIndian.count()))\n",
    "freqIndian = freqIndian.unionAll(freqIndianChr10_working)\n",
    "print('Count of rows: {0}'.format(freqIndian.count()))\n",
    "freqIndian = freqIndian.unionAll(freqIndianChr11_working)\n",
    "print('Count of rows: {0}'.format(freqIndian.count()))\n",
    "freqIndian.printSchema()"
   ]
  },
  {
   "cell_type": "code",
   "execution_count": 234,
   "metadata": {},
   "outputs": [
    {
     "name": "stdout",
     "output_type": "stream",
     "text": [
      "+-----+-------+---------+-----+-------------+-------------+-----------+\n",
      "|CHROM|    POS|N_ALLELES|N_CHR|ALLELE_FREQ_1|ALLELE_FREQ_2|         ID|\n",
      "+-----+-------+---------+-----+-------------+-------------+-----------+\n",
      "|    1| 843684|        2|   72|   G:0.986111|  A:0.0138889|          .|\n",
      "|    1| 894670|        2|   72|   G:0.986111|  C:0.0138889|          .|\n",
      "|    1| 909073|        2|   72|   C:0.513889|   T:0.486111|  rs3892467|\n",
      "|    1| 923459|        2|   72|          A:0|          G:1|  rs9442609|\n",
      "|    1|1015817|        2|   72|   G:0.138889|   A:0.861111| rs12746483|\n",
      "|    1|1129920|        2|   72|      G:0.875|      A:0.125| rs12060422|\n",
      "|    1|1138411|        2|   72|   C:0.986111|  T:0.0138889|          .|\n",
      "|    1|1144696|        2|   72|      T:0.875|      C:0.125|rs111842318|\n",
      "|    1|1226757|        2|   72|   G:0.888889|   A:0.111111|  rs6690013|\n",
      "|    1|1272497|        2|   72|  A:0.0694444|   G:0.930556|   rs307372|\n",
      "+-----+-------+---------+-----+-------------+-------------+-----------+\n",
      "only showing top 10 rows\n",
      "\n"
     ]
    }
   ],
   "source": [
    "freqIndian.show(10)"
   ]
  },
  {
   "cell_type": "code",
   "execution_count": 235,
   "metadata": {},
   "outputs": [
    {
     "name": "stdout",
     "output_type": "stream",
     "text": [
      "+---------+-------------+-------------+\n",
      "|       ID|ALLELE_FREQ_1|ALLELE_FREQ_2|\n",
      "+---------+-------------+-------------+\n",
      "|rs4109479|  C:0.0434783|   T:0.956522|\n",
      "+---------+-------------+-------------+\n",
      "\n",
      "+---------+-----+-------------+-------------+\n",
      "|       ID|CHROM|ALLELE_FREQ_1|ALLELE_FREQ_2|\n",
      "+---------+-----+-------------+-------------+\n",
      "|rs4109479|   11|  C:0.0434783|   T:0.956522|\n",
      "+---------+-----+-------------+-------------+\n",
      "\n",
      "+---------+-------------+-------------+\n",
      "|       ID|ALLELE_FREQ_1|ALLELE_FREQ_2|\n",
      "+---------+-------------+-------------+\n",
      "|rs4109479|  C:0.0434783|   T:0.956522|\n",
      "+---------+-------------+-------------+\n",
      "\n"
     ]
    }
   ],
   "source": [
    "freqIndianChr11_working.select(freqIndianChr11_working.ID, freqIndianChr11_working.ALLELE_FREQ_1, freqIndianChr11_working.ALLELE_FREQ_2).filter(freqIndianChr11_working.ID == \"rs4109479\").show()\n",
    "freqIndianChr11_working.select(\"ID\", \"CHROM\", \"ALLELE_FREQ_1\", \"ALLELE_FREQ_2\").filter(\"ID == 'rs4109479'\").show()\n",
    "spark.sql(\"select ID, ALLELE_FREQ_1, ALLELE_FREQ_2 from freqChr11Indian_working where ID = 'rs4109479'\").show()"
   ]
  },
  {
   "cell_type": "code",
   "execution_count": 197,
   "metadata": {},
   "outputs": [
    {
     "name": "stdout",
     "output_type": "stream",
     "text": [
      "Count of rows: 493300\n",
      "Count of distinct rows: 493300\n",
      "Count of rows: 493300\n",
      "Count of distinct rows: 493300\n",
      "Count of IDs: 493300\n",
      "Count of distinct IDs: 383063\n",
      "+-----+-------+---------+-----+-------------+-------------+---+\n",
      "|CHROM|    POS|N_ALLELES|N_CHR|ALLELE_FREQ_1|ALLELE_FREQ_2| ID|\n",
      "+-----+-------+---------+-----+-------------+-------------+---+\n",
      "|   11| 264963|        2|   72|   T:0.986111|  A:0.0138889|  .|\n",
      "|   11|1260861|        2|   72|   C:0.986111|  T:0.0138889|  .|\n",
      "|   11|1842597|        2|   72|   G:0.986111|  A:0.0138889|  .|\n",
      "|   11|1941635|        2|   72|   T:0.986111|  C:0.0138889|  .|\n",
      "|   11|2001157|        2|   72|   T:0.986111|  C:0.0138889|  .|\n",
      "|   11|2367314|        2|   72|   G:0.972222|  A:0.0277778|  .|\n",
      "|   11|2462424|        2|   72|   C:0.986111|  T:0.0138889|  .|\n",
      "|   11|2828932|        2|   72|   C:0.986111|  T:0.0138889|  .|\n",
      "|   11|2930639|        2|   72|   G:0.986111|  C:0.0138889|  .|\n",
      "|   11|3823904|        2|   72|   C:0.972222|  A:0.0277778|  .|\n",
      "+-----+-------+---------+-----+-------------+-------------+---+\n",
      "only showing top 10 rows\n",
      "\n"
     ]
    }
   ],
   "source": [
    "print('Count of rows: {0}'.format(freqChr11Indian_working.count()))\n",
    "print('Count of distinct rows: {0}'.format(freqChr11Indian_working.distinct().count()))\n",
    "freqChr11Indian_working = freqChr11Indian_working.dropDuplicates()\n",
    "print('Count of rows: {0}'.format(freqChr11Indian_working.count()))\n",
    "print('Count of distinct rows: {0}'.format(freqChr11Indian_working.distinct().count()))\n",
    "print('Count of IDs: {0}'.format(freqChr11Indian_working.count()))\n",
    "print('Count of distinct IDs: {0}'.format(freqChr11Indian_working.select(freqChr11Indian_working.ID).distinct().count()))\n",
    "freqChr11Indian_working.where(\"ID = '.'\").show(10)"
   ]
  },
  {
   "cell_type": "code",
   "execution_count": null,
   "metadata": {
    "collapsed": true
   },
   "outputs": [],
   "source": []
  },
  {
   "cell_type": "code",
   "execution_count": null,
   "metadata": {
    "collapsed": true
   },
   "outputs": [],
   "source": []
  },
  {
   "cell_type": "code",
   "execution_count": null,
   "metadata": {
    "collapsed": true
   },
   "outputs": [],
   "source": []
  },
  {
   "cell_type": "code",
   "execution_count": null,
   "metadata": {
    "collapsed": true
   },
   "outputs": [],
   "source": []
  },
  {
   "cell_type": "code",
   "execution_count": null,
   "metadata": {
    "collapsed": true
   },
   "outputs": [],
   "source": []
  },
  {
   "cell_type": "code",
   "execution_count": null,
   "metadata": {
    "collapsed": true
   },
   "outputs": [],
   "source": []
  },
  {
   "cell_type": "code",
   "execution_count": null,
   "metadata": {
    "collapsed": true
   },
   "outputs": [],
   "source": []
  },
  {
   "cell_type": "code",
   "execution_count": null,
   "metadata": {
    "collapsed": true
   },
   "outputs": [],
   "source": []
  }
 ],
 "metadata": {
  "kernelspec": {
   "display_name": "Python 3",
   "language": "python",
   "name": "python3"
  },
  "language_info": {
   "codemirror_mode": {
    "name": "ipython",
    "version": 3
   },
   "file_extension": ".py",
   "mimetype": "text/x-python",
   "name": "python",
   "nbconvert_exporter": "python",
   "pygments_lexer": "ipython3",
   "version": "3.6.1"
  }
 },
 "nbformat": 4,
 "nbformat_minor": 2
}
