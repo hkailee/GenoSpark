{
 "cells": [
  {
   "cell_type": "code",
   "execution_count": 5,
   "metadata": {
    "collapsed": true
   },
   "outputs": [],
   "source": [
    "import sqlite3, sys, re\n",
    "from utils import *"
   ]
  },
  {
   "cell_type": "code",
   "execution_count": 6,
   "metadata": {},
   "outputs": [
    {
     "ename": "TypeError",
     "evalue": "makedb() missing 1 required positional argument: 'columnFeatures'",
     "output_type": "error",
     "traceback": [
      "\u001b[0;31m---------------------------------------------------------------------------\u001b[0m",
      "\u001b[0;31mTypeError\u001b[0m                                 Traceback (most recent call last)",
      "\u001b[0;32m<ipython-input-6-7bbed809eaaa>\u001b[0m in \u001b[0;36m<module>\u001b[0;34m()\u001b[0m\n\u001b[0;32m----> 1\u001b[0;31m \u001b[0mmakedb\u001b[0m\u001b[0;34m(\u001b[0m\u001b[0;34m'dbase_Sqlite'\u001b[0m\u001b[0;34m,\u001b[0m \u001b[0;34m'Malay'\u001b[0m\u001b[0;34m)\u001b[0m\u001b[0;34m\u001b[0m\u001b[0m\n\u001b[0m",
      "\u001b[0;31mTypeError\u001b[0m: makedb() missing 1 required positional argument: 'columnFeatures'"
     ]
    }
   ],
   "source": [
    "makedb('dbase_Sqlite', 'Malay', \"(CHROM int(2), POS int(10), N_ALLELES int(1), N_CHR int(4), ALLELE_FREQ_1 float(1,6)\")"
   ]
  },
  {
   "cell_type": "code",
   "execution_count": null,
   "metadata": {
    "collapsed": true
   },
   "outputs": [],
   "source": [
    "workingFolder_Indian = \"SgIndian_vcf/dataFreeze_Feb2013/SNP/biAllele/\"\n",
    "\n",
    "workingFolder_Malay = \"SgMalay_vcf/2012_05/snps/\"\n",
    "\n",
    "workingFolder_Chinese = \"1000G/Phase3/integrated/\"\n",
    "\n",
    "# Filing number of unique samples found in the working folder...\n",
    "\n",
    "freqFiles_Indian = [f for f in os.listdir(workingFolder_Indian) if re.match(r'chr\\d+_analysis_exome\\.frq', f)]\n",
    "rsIDFiles_Indian = [f for f in os.listdir(workingFolder_Indian) if re.match(r'chr\\d+_rsID', f)]\n",
    "freqFiles_Malay = [f for f in os.listdir(workingFolder_Malay) if re.match(r'chr\\d+_analysis_exome\\.frq', f)]\n",
    "rsIDFiles_Malay = [f for f in os.listdir(workingFolder_Malay) if re.match(r'chr\\d+_rsID', f)]\n",
    "freqFiles_Chinese = [f for f in os.listdir(workingFolder_Chinese) if re.match(r'chr\\d+_analysis_exome\\.frq', f)]\n",
    "rsIDFiles_Chinese = [f for f in os.listdir(workingFolder_Chinese) if re.match(r'chr\\d+_rsID', f)]\n",
    "\n",
    "freqFilesID_pre = re.compile(r'(chr\\d+)_analysis_exome\\.frq')\n",
    "freqFilesID = []\n",
    "for file in freqFiles_Indian:\n",
    "    freqFilesID.append(freqFilesID_pre.findall(file))\n",
    "\n",
    "print(freqFilesID)"
   ]
  },
  {
   "cell_type": "code",
   "execution_count": null,
   "metadata": {
    "collapsed": true
   },
   "outputs": [],
   "source": [
    "# Obtain dataset\n",
    "\n",
    "dbfile, datafile, table = 'dbase_Sqlite_Malay', 'data.txt', 'people'\n",
    "\n",
    "\n",
    "freqDF_Indian = spark.createDataFrame([], schema_Freq_DF)\n",
    "freqDF_Malay = spark.createDataFrame([], schema_Freq_DF)\n",
    "freqDF_Chinese = spark.createDataFrame([], schema_Freq_DF)\n",
    "\n",
    "for ID in freqFilesID:\n",
    "    df1 = spark.read.csv(workingFolder_Indian + ID[0] + \"_analysis_exome.frq\", header=True, schema=schema_Freq, sep='\\t').alias('df1')\n",
    "    df2 = spark.read.csv(workingFolder_Indian + ID[0] + \"_rsID\", header=False, schema=schema_rsID, sep='\\t').alias('df2')\n",
    "    freqChrN_working = df2.join(df1, df2.POS == df1.POS).select('df1.*','df2.ID')\n",
    "    freqDF_Indian = freqDF_Indian.union(freqChrN_working)\n",
    "    \n",
    "for ID in freqFilesID:\n",
    "    df1 = spark.read.csv(workingFolder_Malay + ID[0] + \"_analysis_exome.frq\", header=True, schema=schema_Freq, sep='\\t').alias('df1')\n",
    "    df2 = spark.read.csv(workingFolder_Malay + ID[0] + \"_rsID\", header=False, schema=schema_rsID, sep='\\t').alias('df2')\n",
    "    freqChrN_working = df2.join(df1, df2.POS == df1.POS).select('df1.*','df2.ID')\n",
    "    freqDF_Malay = freqDF_Malay.union(freqChrN_working)\n",
    "\n",
    "for ID in freqFilesID:\n",
    "    df1 = spark.read.csv(workingFolder_Chinese + ID[0] + \"_analysis_exome.frq\", header=True, schema=schema_Freq, sep='\\t').alias('df1')\n",
    "    df2 = spark.read.csv(workingFolder_Chinese + ID[0] + \"_rsID\", header=False, schema=schema_rsID, sep='\\t').alias('df2')\n",
    "    freqChrN_working = df2.join(df1, df2.POS == df1.POS).select('df1.*','df2.ID')\n",
    "    freqDF_Chinese = freqDF_Chinese.union(freqChrN_working) "
   ]
  }
 ],
 "metadata": {
  "kernelspec": {
   "display_name": "Python 3",
   "language": "python",
   "name": "python3"
  },
  "language_info": {
   "codemirror_mode": {
    "name": "ipython",
    "version": 3
   },
   "file_extension": ".py",
   "mimetype": "text/x-python",
   "name": "python",
   "nbconvert_exporter": "python",
   "pygments_lexer": "ipython3",
   "version": "3.6.1"
  }
 },
 "nbformat": 4,
 "nbformat_minor": 2
}
