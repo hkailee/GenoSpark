{
 "cells": [
  {
   "cell_type": "code",
   "execution_count": 1,
   "metadata": {
    "collapsed": true
   },
   "outputs": [],
   "source": [
    "import datetime, multiprocessing, logging, os, re, shutil, sys, sqlite3, subprocess, time\n",
    "import pandas as pd\n",
    "from utils_db import *\n",
    "\n",
    "##################\n",
    "### Administration\n",
    "##################\n",
    "logging.basicConfig(filename= 'log.txt', level=logging.INFO, \n",
    "                    format='%(asctime)s - %(levelname)s - %(message)s')"
   ]
  },
  {
   "cell_type": "markdown",
   "metadata": {},
   "source": [
    "## 1. Making new Database and related tables and schemas"
   ]
  },
  {
   "cell_type": "code",
   "execution_count": 2,
   "metadata": {},
   "outputs": [
    {
     "name": "stdout",
     "output_type": "stream",
     "text": [
      "[['chr1'], ['chr2'], ['chr3'], ['chr4'], ['chr5'], ['chr6'], ['chr7'], ['chr8'], ['chr9'], ['chr10'], ['chr11'], ['chr12'], ['chr13'], ['chr14'], ['chr15'], ['chr16'], ['chr17'], ['chr18'], ['chr19'], ['chr20'], ['chr21'], ['chr22'], ['chrX']]\n"
     ]
    }
   ],
   "source": [
    "workingFolder_Indian = \"SgIndian_vcf/dataFreeze_Feb2013/SNP/biAllele/\"\n",
    "\n",
    "workingFolder_Malay = \"SgMalay_vcf/2012_05/snps/\"\n",
    "\n",
    "workingFolder_Chinese = \"1000G/Phase3/integrated/\"\n",
    "\n",
    "# Filing number of unique samples found in the working folder...\n",
    "\n",
    "freqFiles_Indian = [f for f in os.listdir(workingFolder_Indian) if re.match(r'chr[A-Z0-9]+_analysis_exome\\.frq', f)]\n",
    "rsIDFiles_Indian = [f for f in os.listdir(workingFolder_Indian) if re.match(r'chr[A-Z0-9]+_rsID', f)]\n",
    "freqFiles_Malay = [f for f in os.listdir(workingFolder_Malay) if re.match(r'chr[A-Z0-9]+_analysis_exome\\.frq', f)]\n",
    "rsIDFiles_Malay = [f for f in os.listdir(workingFolder_Malay) if re.match(r'chr[A-Z0-9]+_rsID', f)]\n",
    "freqFiles_Chinese = [f for f in os.listdir(workingFolder_Chinese) if re.match(r'chr[A-Z0-9]+_analysis_exome\\.frq', f)]\n",
    "rsIDFiles_Chinese = [f for f in os.listdir(workingFolder_Chinese) if re.match(r'chr[A-Z0-9]+_rsID', f)]\n",
    "\n",
    "freqFilesID_pre = re.compile(r'(chr[A-Z0-9]+)_analysis_exome\\.frq')\n",
    "freqFilesID = []\n",
    "for file in freqFiles_Indian:\n",
    "    freqFilesID.append(freqFilesID_pre.findall(file))\n",
    "\n",
    "print(freqFilesID)"
   ]
  },
  {
   "cell_type": "markdown",
   "metadata": {},
   "source": [
    "## 2.1 Parsing the Malay vcf manually to generate rsID table\n",
    "### >>> created only for the Singapore Malay vcf as command below produced error as such:: \n",
    "```\n",
    "    $ bcftools query -f '%CHROM\\t%POS\\t%ID\\n' SSM.chr8.2012_05.genotypes.vcf.gz -o chr8_rsID \n",
    "    $ [E::bcf_hdr_add_sample] Empty sample name: trailing spaces/tabs in the header line?\n",
    "```"
   ]
  },
  {
   "cell_type": "code",
   "execution_count": 7,
   "metadata": {},
   "outputs": [
    {
     "name": "stdout",
     "output_type": "stream",
     "text": [
      "2017/09/18 13:05:43 - gunzip completed: Took 0.1813488006591797 seconds to complete.\n"
     ]
    }
   ],
   "source": [
    "# to gunzip vcf.gz for Malay only\n",
    "startTime = time.time()\n",
    "for ID in freqFilesID:\n",
    "    #print('gunzip '+  workingFolder_Malay + '/SSM.' + ID[0] + '.2012_05.genotypes.vcf.gz')\n",
    "    try:\n",
    "        proc1 = subprocess.Popen(['gunzip', workingFolder_Malay + '/SSM.' + ID[0] + '.2012_05.genotypes.vcf.gz'],\n",
    "                             stdin=subprocess.PIPE, stdout=subprocess.PIPE)\n",
    "        out, err = proc1.communicate()\n",
    "        logging.info('gunzip ' +  workingFolder_Malay + '/SSM.' + ID[0] + '.2012_05.genotypes.vcf.gz')\n",
    "    except:\n",
    "        logging.info(workingFolder_Malay + '/SSM.' + ID[0] + '.2012_05.genotypes.vcf.gz not present')\n",
    "        pass\n",
    "timeTaken = time.time()-startTime \n",
    "print(datetime.datetime.now().strftime('%Y/%m/%d %H:%M:%S'), \n",
    "      '- gunzip completed: Took {} seconds to complete.'.format(timeTaken))"
   ]
  },
  {
   "cell_type": "code",
   "execution_count": 8,
   "metadata": {},
   "outputs": [
    {
     "name": "stdout",
     "output_type": "stream",
     "text": [
      "Dropped table Malay_rsID\n",
      "1083000 rows loaded\n",
      "1133594 rows loaded\n",
      "968661 rows loaded\n",
      "971842 rows loaded\n",
      "867221 rows loaded\n",
      "869666 rows loaded\n",
      "788835 rows loaded\n",
      "725514 rows loaded\n",
      "608992 rows loaded\n",
      "674869 rows loaded\n",
      "658585 rows loaded\n",
      "642006 rows loaded\n",
      "495844 rows loaded\n",
      "449884 rows loaded\n",
      "402798 rows loaded\n",
      "439312 rows loaded\n",
      "374617 rows loaded\n",
      "380061 rows loaded\n",
      "304836 rows loaded\n",
      "300481 rows loaded\n",
      "205222 rows loaded\n",
      "193427 rows loaded\n",
      "438388 rows loaded\n",
      "2017/09/18 13:25:55 - Data Loading for Malay_rsID of dbase_Sqlite database completed: Took 1193.7747230529785 seconds to complete.\n"
     ]
    }
   ],
   "source": [
    "# Manually load data from a raw vcf for Malay population only\n",
    "startTime = time.time()\n",
    "makedb('dbase_Sqlite', 'Malay_rsID', \"(CHROM int(2), POS int(10), ID char(15))\")\n",
    "for ID in freqFilesID:    \n",
    "    loaddb_vcf_rsID('Malay_rsID', 'dbase_Sqlite', workingFolder_Malay + '/SSM.' + ID[0] + '.2012_05.genotypes.vcf')\n",
    "    logging.info('Inserting values from ' +  workingFolder_Malay + 'SSM.' + ID[0] + \n",
    "                 '.2012_05.genotypes.vcf to Malay_rsID table of dbase_Sqlite database')\n",
    "timeTaken = time.time()-startTime \n",
    "print(datetime.datetime.now().strftime('%Y/%m/%d %H:%M:%S'), \n",
    "      '- Data Loading for Malay_rsID of dbase_Sqlite database completed: Took {} seconds to complete.'.format(timeTaken))"
   ]
  },
  {
   "cell_type": "markdown",
   "metadata": {},
   "source": [
    "## 2.2 Processing the rest of the tables"
   ]
  },
  {
   "cell_type": "code",
   "execution_count": 9,
   "metadata": {},
   "outputs": [
    {
     "name": "stdout",
     "output_type": "stream",
     "text": [
      "Dropped table Malay_Data\n",
      "495949 rows loaded\n",
      "473812 rows loaded\n",
      "427107 rows loaded\n",
      "319134 rows loaded\n",
      "315630 rows loaded\n",
      "343037 rows loaded\n",
      "358234 rows loaded\n",
      "288072 rows loaded\n",
      "251232 rows loaded\n",
      "305268 rows loaded\n",
      "276140 rows loaded\n",
      "276714 rows loaded\n",
      "179544 rows loaded\n",
      "177553 rows loaded\n",
      "192212 rows loaded\n",
      "201781 rows loaded\n",
      "203496 rows loaded\n",
      "145761 rows loaded\n",
      "156652 rows loaded\n",
      "134502 rows loaded\n",
      "79045 rows loaded\n",
      "97823 rows loaded\n",
      "127540 rows loaded\n",
      "2017/09/18 13:28:21 - Data Loading for Malay_Data table of dbase_Sqlite database completed: Took 145.07900977134705 seconds to complete.\n"
     ]
    }
   ],
   "source": [
    "# For Malay Data\n",
    "startTime = time.time()\n",
    "makedb('dbase_Sqlite', 'Malay_Data', \"(CHROM int(2), POS int(10), N_ALLELES int(1), N_CHR int(4), Malay_ALLELE_FREQ_1 char(30), Malay_ALLELE_FREQ_2 char(30))\")\n",
    "for ID in freqFilesID:\n",
    "    loaddb('Malay_Data', 'dbase_Sqlite', workingFolder_Malay + ID[0] +'_analysis_exome.frq')\n",
    "    logging.info('Inserting values from ' +  workingFolder_Malay + ID[0] + '_analysis_exome.frq ' +\n",
    "                 'to Malay_Data table of dbase_Sqlite database')\n",
    "timeTaken = time.time()-startTime \n",
    "print(datetime.datetime.now().strftime('%Y/%m/%d %H:%M:%S'), \n",
    "      '- Data Loading for Malay_Data table of dbase_Sqlite database completed: Took {} '\n",
    "      'seconds to complete.'.format(timeTaken))"
   ]
  },
  {
   "cell_type": "code",
   "execution_count": 10,
   "metadata": {},
   "outputs": [
    {
     "name": "stdout",
     "output_type": "stream",
     "text": [
      "Dropped table Indian_Data\n",
      "360948 rows loaded\n",
      "351734 rows loaded\n",
      "319554 rows loaded\n",
      "239662 rows loaded\n",
      "229688 rows loaded\n",
      "262924 rows loaded\n",
      "264721 rows loaded\n",
      "217646 rows loaded\n",
      "187289 rows loaded\n",
      "238043 rows loaded\n",
      "212019 rows loaded\n",
      "209176 rows loaded\n",
      "133154 rows loaded\n",
      "131562 rows loaded\n",
      "141056 rows loaded\n",
      "149545 rows loaded\n",
      "153232 rows loaded\n",
      "110543 rows loaded\n",
      "119277 rows loaded\n",
      "99313 rows loaded\n",
      "56857 rows loaded\n",
      "72879 rows loaded\n",
      "103129 rows loaded\n",
      "2017/09/18 13:30:02 - Data Loading for Indian_Data table of dbase_Sqlite database completed: Took 101.91107702255249 seconds to complete.\n",
      "Dropped table Indian_rsID\n",
      "785530 rows loaded\n",
      "827584 rows loaded\n",
      "710296 rows loaded\n",
      "709721 rows loaded\n",
      "626341 rows loaded\n",
      "656058 rows loaded\n",
      "577635 rows loaded\n",
      "540886 rows loaded\n",
      "428838 rows loaded\n",
      "519887 rows loaded\n",
      "493299 rows loaded\n",
      "475870 rows loaded\n",
      "368359 rows loaded\n",
      "316561 rows loaded\n",
      "285815 rows loaded\n",
      "312606 rows loaded\n",
      "278781 rows loaded\n",
      "283745 rows loaded\n",
      "231812 rows loaded\n",
      "216698 rows loaded\n",
      "138793 rows loaded\n",
      "137785 rows loaded\n",
      "358334 rows loaded\n",
      "2017/09/18 13:32:41 - Data Loading for Indian_rsID table of dbase_Sqlite database completed: Took 260.69682025909424 seconds to complete.\n"
     ]
    }
   ],
   "source": [
    "# For Indian Data and rsID\n",
    "startTime = time.time()\n",
    "\n",
    "########\n",
    "makedb('dbase_Sqlite', 'Indian_Data', \"(CHROM int(2), POS int(10), N_ALLELES int(1), N_CHR int(4), Indian_ALLELE_FREQ_1 char(30), Indian_ALLELE_FREQ_2 char(30))\")\n",
    "########\n",
    "for ID in freqFilesID:\n",
    "    loaddb('Indian_Data', 'dbase_Sqlite', workingFolder_Indian + ID[0] +'_analysis_exome.frq')\n",
    "    logging.info('Inserting values from ' +  workingFolder_Indian + ID[0] + '_analysis_exome.frq ' +\n",
    "                 'to Indian_Data table of dbase_Sqlite database')\n",
    "timeTaken = time.time()-startTime \n",
    "print(datetime.datetime.now().strftime('%Y/%m/%d %H:%M:%S'), \n",
    "      '- Data Loading for Indian_Data table of dbase_Sqlite database completed: Took {} '\n",
    "      'seconds to complete.'.format(timeTaken))\n",
    "\n",
    "########\n",
    "makedb('dbase_Sqlite', 'Indian_rsID', \"(CHROM int(2), POS int(10), ID char(15))\")\n",
    "########\n",
    "for ID in freqFilesID:\n",
    "    loaddb('Indian_rsID', 'dbase_Sqlite', workingFolder_Indian + ID[0] +'_rsID')\n",
    "    logging.info('Inserting values from ' +  workingFolder_Indian + ID[0] + '_rsID ' +\n",
    "                 'to Indian_rsID table of dbase_Sqlite database')\n",
    "timeTaken = time.time()-startTime \n",
    "print(datetime.datetime.now().strftime('%Y/%m/%d %H:%M:%S'), \n",
    "      '- Data Loading for Indian_rsID table of dbase_Sqlite database completed: Took {} '\n",
    "      'seconds to complete.'.format(timeTaken))"
   ]
  },
  {
   "cell_type": "code",
   "execution_count": 3,
   "metadata": {},
   "outputs": [
    {
     "name": "stdout",
     "output_type": "stream",
     "text": [
      "Dropped table Chinese_Data\n",
      "3106369 rows loaded\n",
      "3059890 rows loaded\n",
      "528812 rows loaded\n",
      "1995361 rows loaded\n",
      "2008553 rows loaded\n",
      "2093915 rows loaded\n",
      "2244496 rows loaded\n",
      "1879243 rows loaded\n",
      "1576940 rows loaded\n",
      "1876124 rows loaded\n",
      "1794253 rows loaded\n",
      "1724928 rows loaded\n",
      "1068998 rows loaded\n",
      "1114582 rows loaded\n",
      "1211192 rows loaded\n",
      "1291652 rows loaded\n",
      "1319479 rows loaded\n",
      "912144 rows loaded\n",
      "978074 rows loaded\n",
      "848002 rows loaded\n",
      "460086 rows loaded\n",
      "607655 rows loaded\n",
      "1081892 rows loaded\n",
      "2017/09/18 14:54:17 - Data Loading for Chinese_Data table of dbase_Sqlite database completed: Took 2592.873679161072 seconds to complete.\n",
      "Dropped table Chinese_rsID\n",
      "6468093 rows loaded\n",
      "7081599 rows loaded\n",
      "1194554 rows loaded\n",
      "5732584 rows loaded\n",
      "5265762 rows loaded\n",
      "5024118 rows loaded\n",
      "4716714 rows loaded\n",
      "4597104 rows loaded\n",
      "3560686 rows loaded\n",
      "3992218 rows loaded\n",
      "4045627 rows loaded\n",
      "3868427 rows loaded\n",
      "2857915 rows loaded\n",
      "2655066 rows loaded\n",
      "2424688 rows loaded\n",
      "2697948 rows loaded\n",
      "2329287 rows loaded\n",
      "2267184 rows loaded\n",
      "1832505 rows loaded\n",
      "1812840 rows loaded\n",
      "1105537 rows loaded\n",
      "1103546 rows loaded\n",
      "3468092 rows loaded\n",
      "2017/09/18 15:15:02 - Data Loading for Chinese_rsID table of dbase_Sqlite database completed: Took 3838.4635741710663 seconds to complete.\n"
     ]
    }
   ],
   "source": [
    "# For Chinese Data and rsID\n",
    "startTime = time.time()\n",
    "\n",
    "######\n",
    "query_Data = \"(CHROM int(2), POS int(10), N_ALLELES int(1), N_CHR int(4), Chinese_ALLELE_FREQ_1 char(50), Chinese_ALLELE_FREQ_2 char(50), Chinese_ALLELE_FREQ_3 char(50), Chinese_ALLELE_FREQ_4 char(50))\"\n",
    "makedb('dbase_Sqlite', 'Chinese_Data', query_Data)\n",
    "######\n",
    "\n",
    "for ID in freqFilesID:\n",
    "    loaddb_chineseData('Chinese_Data', 'dbase_Sqlite', workingFolder_Chinese + ID[0] +'_analysis_exome.frq')\n",
    "    logging.info('Inserting values from ' +  workingFolder_Chinese + ID[0] + '_analysis_exome.frq ' +\n",
    "                 'to Chinese_Data table of dbase_Sqlite database')\n",
    "timeTaken = time.time()-startTime  \n",
    "print(datetime.datetime.now().strftime('%Y/%m/%d %H:%M:%S'), \n",
    "      '- Data Loading for Chinese_Data table of dbase_Sqlite database completed: Took {} '\n",
    "      'seconds to complete.'.format(timeTaken))\n",
    "\n",
    "######\n",
    "makedb('dbase_Sqlite', 'Chinese_rsID', '(CHROM int(2), POS int(10), ID chr(15))')\n",
    "#######\n",
    "for ID in freqFilesID:\n",
    "    loaddb('Chinese_rsID', 'dbase_Sqlite', workingFolder_Chinese + ID[0] +'_rsID')\n",
    "    logging.info('Inserting values from ' +  workingFolder_Chinese + ID[0] + '_rsID ' +\n",
    "                 'to Chinese_rsID table of dbase_Sqlite database')\n",
    "timeTaken = time.time()-startTime \n",
    "print(datetime.datetime.now().strftime('%Y/%m/%d %H:%M:%S'), \n",
    "      '- Data Loading for Chinese_rsID table of dbase_Sqlite database completed: Took {} '\n",
    "      'seconds to complete.'.format(timeTaken))"
   ]
  },
  {
   "cell_type": "markdown",
   "metadata": {},
   "source": [
    "## 3. Checking the table race_Data and race_rsID"
   ]
  },
  {
   "cell_type": "code",
   "execution_count": 4,
   "metadata": {},
   "outputs": [
    {
     "data": {
      "text/html": [
       "<div>\n",
       "<style>\n",
       "    .dataframe thead tr:only-child th {\n",
       "        text-align: right;\n",
       "    }\n",
       "\n",
       "    .dataframe thead th {\n",
       "        text-align: left;\n",
       "    }\n",
       "\n",
       "    .dataframe tbody tr th {\n",
       "        vertical-align: top;\n",
       "    }\n",
       "</style>\n",
       "<table border=\"1\" class=\"dataframe\">\n",
       "  <thead>\n",
       "    <tr style=\"text-align: right;\">\n",
       "      <th></th>\n",
       "      <th>CHROM</th>\n",
       "      <th>POS</th>\n",
       "      <th>ID</th>\n",
       "    </tr>\n",
       "  </thead>\n",
       "  <tbody>\n",
       "    <tr>\n",
       "      <th>0</th>\n",
       "      <td>1</td>\n",
       "      <td>10235</td>\n",
       "      <td>rs540431307</td>\n",
       "    </tr>\n",
       "    <tr>\n",
       "      <th>1</th>\n",
       "      <td>1</td>\n",
       "      <td>10352</td>\n",
       "      <td>rs555500075</td>\n",
       "    </tr>\n",
       "    <tr>\n",
       "      <th>2</th>\n",
       "      <td>1</td>\n",
       "      <td>10505</td>\n",
       "      <td>rs548419688</td>\n",
       "    </tr>\n",
       "    <tr>\n",
       "      <th>3</th>\n",
       "      <td>1</td>\n",
       "      <td>10506</td>\n",
       "      <td>rs568405545</td>\n",
       "    </tr>\n",
       "    <tr>\n",
       "      <th>4</th>\n",
       "      <td>1</td>\n",
       "      <td>10511</td>\n",
       "      <td>rs534229142</td>\n",
       "    </tr>\n",
       "  </tbody>\n",
       "</table>\n",
       "</div>"
      ],
      "text/plain": [
       "   CHROM    POS           ID\n",
       "0      1  10235  rs540431307\n",
       "1      1  10352  rs555500075\n",
       "2      1  10505  rs548419688\n",
       "3      1  10506  rs568405545\n",
       "4      1  10511  rs534229142"
      ]
     },
     "execution_count": 4,
     "metadata": {},
     "output_type": "execute_result"
    }
   ],
   "source": [
    "conn = sqlite3.connect('dbase_Sqlite')\n",
    "df = pd.read_sql_query(\"select * from Chinese_rsID limit 5\", conn)\n",
    "df"
   ]
  },
  {
   "cell_type": "code",
   "execution_count": 5,
   "metadata": {},
   "outputs": [
    {
     "data": {
      "text/html": [
       "<div>\n",
       "<style>\n",
       "    .dataframe thead tr:only-child th {\n",
       "        text-align: right;\n",
       "    }\n",
       "\n",
       "    .dataframe thead th {\n",
       "        text-align: left;\n",
       "    }\n",
       "\n",
       "    .dataframe tbody tr th {\n",
       "        vertical-align: top;\n",
       "    }\n",
       "</style>\n",
       "<table border=\"1\" class=\"dataframe\">\n",
       "  <thead>\n",
       "    <tr style=\"text-align: right;\">\n",
       "      <th></th>\n",
       "      <th>CHROM</th>\n",
       "      <th>POS</th>\n",
       "      <th>N_ALLELES</th>\n",
       "      <th>N_CHR</th>\n",
       "      <th>Chinese_ALLELE_FREQ_1</th>\n",
       "      <th>Chinese_ALLELE_FREQ_2</th>\n",
       "      <th>Chinese_ALLELE_FREQ_3</th>\n",
       "      <th>Chinese_ALLELE_FREQ_4</th>\n",
       "    </tr>\n",
       "  </thead>\n",
       "  <tbody>\n",
       "    <tr>\n",
       "      <th>0</th>\n",
       "      <td>1</td>\n",
       "      <td>13011</td>\n",
       "      <td>2</td>\n",
       "      <td>186</td>\n",
       "      <td>T:1</td>\n",
       "      <td>G:0</td>\n",
       "      <td>None</td>\n",
       "      <td>None</td>\n",
       "    </tr>\n",
       "    <tr>\n",
       "      <th>1</th>\n",
       "      <td>1</td>\n",
       "      <td>13110</td>\n",
       "      <td>2</td>\n",
       "      <td>186</td>\n",
       "      <td>G:1</td>\n",
       "      <td>A:0</td>\n",
       "      <td>None</td>\n",
       "      <td>None</td>\n",
       "    </tr>\n",
       "    <tr>\n",
       "      <th>2</th>\n",
       "      <td>1</td>\n",
       "      <td>13116</td>\n",
       "      <td>2</td>\n",
       "      <td>186</td>\n",
       "      <td>T:0.994624</td>\n",
       "      <td>G:0.00537634</td>\n",
       "      <td>None</td>\n",
       "      <td>None</td>\n",
       "    </tr>\n",
       "    <tr>\n",
       "      <th>3</th>\n",
       "      <td>1</td>\n",
       "      <td>13118</td>\n",
       "      <td>2</td>\n",
       "      <td>186</td>\n",
       "      <td>A:0.994624</td>\n",
       "      <td>G:0.00537634</td>\n",
       "      <td>None</td>\n",
       "      <td>None</td>\n",
       "    </tr>\n",
       "    <tr>\n",
       "      <th>4</th>\n",
       "      <td>1</td>\n",
       "      <td>13156</td>\n",
       "      <td>2</td>\n",
       "      <td>186</td>\n",
       "      <td>G:1</td>\n",
       "      <td>C:0</td>\n",
       "      <td>None</td>\n",
       "      <td>None</td>\n",
       "    </tr>\n",
       "  </tbody>\n",
       "</table>\n",
       "</div>"
      ],
      "text/plain": [
       "   CHROM    POS  N_ALLELES  N_CHR Chinese_ALLELE_FREQ_1 Chinese_ALLELE_FREQ_2  \\\n",
       "0      1  13011          2    186                   T:1                   G:0   \n",
       "1      1  13110          2    186                   G:1                   A:0   \n",
       "2      1  13116          2    186            T:0.994624          G:0.00537634   \n",
       "3      1  13118          2    186            A:0.994624          G:0.00537634   \n",
       "4      1  13156          2    186                   G:1                   C:0   \n",
       "\n",
       "  Chinese_ALLELE_FREQ_3 Chinese_ALLELE_FREQ_4  \n",
       "0                  None                  None  \n",
       "1                  None                  None  \n",
       "2                  None                  None  \n",
       "3                  None                  None  \n",
       "4                  None                  None  "
      ]
     },
     "execution_count": 5,
     "metadata": {},
     "output_type": "execute_result"
    }
   ],
   "source": [
    "df = pd.read_sql_query(\"select * from Chinese_Data limit 5\", conn)\n",
    "df"
   ]
  },
  {
   "cell_type": "code",
   "execution_count": 6,
   "metadata": {},
   "outputs": [
    {
     "data": {
      "text/html": [
       "<div>\n",
       "<style>\n",
       "    .dataframe thead tr:only-child th {\n",
       "        text-align: right;\n",
       "    }\n",
       "\n",
       "    .dataframe thead th {\n",
       "        text-align: left;\n",
       "    }\n",
       "\n",
       "    .dataframe tbody tr th {\n",
       "        vertical-align: top;\n",
       "    }\n",
       "</style>\n",
       "<table border=\"1\" class=\"dataframe\">\n",
       "  <thead>\n",
       "    <tr style=\"text-align: right;\">\n",
       "      <th></th>\n",
       "      <th>count(CHROM)</th>\n",
       "    </tr>\n",
       "  </thead>\n",
       "  <tbody>\n",
       "    <tr>\n",
       "      <th>0</th>\n",
       "      <td>34781080</td>\n",
       "    </tr>\n",
       "  </tbody>\n",
       "</table>\n",
       "</div>"
      ],
      "text/plain": [
       "   count(CHROM)\n",
       "0      34781080"
      ]
     },
     "execution_count": 6,
     "metadata": {},
     "output_type": "execute_result"
    }
   ],
   "source": [
    "df = pd.read_sql_query(\"select count(CHROM) from Chinese_Data\", conn)\n",
    "df"
   ]
  },
  {
   "cell_type": "markdown",
   "metadata": {},
   "source": [
    "## 4. Create combined tables (Data + rsID) for Malay, Indian, and Chinese"
   ]
  },
  {
   "cell_type": "code",
   "execution_count": 7,
   "metadata": {},
   "outputs": [
    {
     "name": "stdout",
     "output_type": "stream",
     "text": [
      "Dropped table Malay\n"
     ]
    }
   ],
   "source": [
    "# Malay\n",
    "\n",
    "query = '''SELECT \n",
    "                Malay_Data.CHROM, \n",
    "                Malay_Data.POS, \n",
    "                N_ALLELES, \n",
    "                N_CHR, \n",
    "                Malay_ALLELE_FREQ_1, \n",
    "                Malay_ALLELE_FREQ_2, \n",
    "                Malay_rsID.ID \n",
    "            FROM \n",
    "                Malay_Data \n",
    "            INNER JOIN \n",
    "                Malay_rsID \n",
    "            ON \n",
    "                Malay_Data.POS = Malay_rsID.POS'''\n",
    "\n",
    "combinetables('dbase_Sqlite', 'Malay',  query)"
   ]
  },
  {
   "cell_type": "code",
   "execution_count": 8,
   "metadata": {},
   "outputs": [
    {
     "name": "stdout",
     "output_type": "stream",
     "text": [
      "Dropped table Indian\n"
     ]
    }
   ],
   "source": [
    "# Indian\n",
    "\n",
    "query = '''SELECT \n",
    "                Indian_Data.CHROM, \n",
    "                Indian_Data.POS, \n",
    "                N_ALLELES, \n",
    "                N_CHR, \n",
    "                Indian_ALLELE_FREQ_1, \n",
    "                Indian_ALLELE_FREQ_2, \n",
    "                Indian_rsID.ID \n",
    "            FROM \n",
    "                Indian_Data \n",
    "            INNER JOIN \n",
    "                Indian_rsID \n",
    "            ON \n",
    "                Indian_Data.POS = Indian_rsID.POS'''\n",
    "\n",
    "combinetables('dbase_Sqlite', 'Indian',  query)\n"
   ]
  },
  {
   "cell_type": "code",
   "execution_count": 9,
   "metadata": {},
   "outputs": [
    {
     "name": "stdout",
     "output_type": "stream",
     "text": [
      "Dropped table Chinese\n"
     ]
    }
   ],
   "source": [
    "# Chinese\n",
    "\n",
    "query = '''SELECT \n",
    "                Chinese_Data.CHROM, \n",
    "                Chinese_Data.POS, \n",
    "                N_ALLELES, \n",
    "                N_CHR, \n",
    "                Chinese_ALLELE_FREQ_1, \n",
    "                Chinese_ALLELE_FREQ_2, \n",
    "                Chinese_ALLELE_FREQ_3,\n",
    "                Chinese_ALLELE_FREQ_4,\n",
    "                Chinese_rsID.ID \n",
    "            FROM \n",
    "                Chinese_Data \n",
    "            INNER JOIN \n",
    "                Chinese_rsID \n",
    "            ON \n",
    "                Chinese_Data.POS = Chinese_rsID.POS'''\n",
    "\n",
    "combinetables('dbase_Sqlite', 'Chinese',  query)"
   ]
  },
  {
   "cell_type": "markdown",
   "metadata": {},
   "source": [
    "## 5. Drop unneccessary race_Data and race_rsID tables"
   ]
  },
  {
   "cell_type": "code",
   "execution_count": null,
   "metadata": {
    "collapsed": true
   },
   "outputs": [],
   "source": [
    "cleardb('dbase_Sqlite', 'Malay_Data')\n",
    "cleardb('dbase_Sqlite', 'Malay_rsID')\n",
    "cleardb('dbase_Sqlite', 'Indian_Data')\n",
    "cleardb('dbase_Sqlite', 'Indian_rsID')\n",
    "cleardb('dbase_Sqlite', 'Chinese_Data')\n",
    "cleardb('dbase_Sqlite', 'Chinese_rsID')"
   ]
  }
 ],
 "metadata": {
  "kernelspec": {
   "display_name": "Python 3",
   "language": "python",
   "name": "python3"
  },
  "language_info": {
   "codemirror_mode": {
    "name": "ipython",
    "version": 3
   },
   "file_extension": ".py",
   "mimetype": "text/x-python",
   "name": "python",
   "nbconvert_exporter": "python",
   "pygments_lexer": "ipython3",
   "version": "3.6.1"
  }
 },
 "nbformat": 4,
 "nbformat_minor": 2
}
