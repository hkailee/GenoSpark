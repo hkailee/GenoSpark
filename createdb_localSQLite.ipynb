{
 "cells": [
  {
   "cell_type": "code",
   "execution_count": 4,
   "metadata": {
    "collapsed": true
   },
   "outputs": [],
   "source": [
    "import sqlite3, sys, re\n",
    "\n",
    "def login(dbfile):\n",
    "    conn = sqlite3.connect(dbfile)  # create or open db file\n",
    "    curs = conn.cursor()\n",
    "    return conn, curs\n",
    "\n",
    "def loaddb(curs, table, datafile, conn=None, verbose=True):\n",
    "    file = open(datafile)                               # x,x,x\\nx,x,x\\n\n",
    "    rows = [line.rstrip().split('\\n') for line in file]  # [[x,x,x], [x,x,x]]\n",
    "    rows = [str(tuple(rec)) for rec in rows]            # [\"(x,x,x)\", \"(x,x,x)\"]\n",
    "    for recstr in rows:\n",
    "        curs.execute('insert into ' + table + ' values ' + recstr)\n",
    "    if conn:\n",
    "        conn.commit()\n",
    "    if verbose:\n",
    "        print(len(rows), 'rows loaded')"
   ]
  },
  {
   "cell_type": "code",
   "execution_count": 6,
   "metadata": {},
   "outputs": [
    {
     "name": "stdout",
     "output_type": "stream",
     "text": [
      "[['chr1'], ['chr2'], ['chr3'], ['chr4'], ['chr5'], ['chr6'], ['chr7'], ['chr8'], ['chr9'], ['chr10'], ['chr11'], ['chr12'], ['chr13'], ['chr14'], ['chr15'], ['chr16'], ['chr17'], ['chr18'], ['chr19'], ['chr20'], ['chr21'], ['chr22']]\n"
     ]
    }
   ],
   "source": [
    "workingFolder_Indian = \"SgIndian_vcf/dataFreeze_Feb2013/SNP/biAllele/\"\n",
    "\n",
    "workingFolder_Malay = \"SgMalay_vcf/2012_05/snps/\"\n",
    "\n",
    "workingFolder_Chinese = \"1000G/Phase3/integrated/\"\n",
    "\n",
    "# Filing number of unique samples found in the working folder...\n",
    "\n",
    "freqFiles_Indian = [f for f in os.listdir(workingFolder_Indian) if re.match(r'chr\\d+_analysis_exome\\.frq', f)]\n",
    "rsIDFiles_Indian = [f for f in os.listdir(workingFolder_Indian) if re.match(r'chr\\d+_rsID', f)]\n",
    "freqFiles_Malay = [f for f in os.listdir(workingFolder_Malay) if re.match(r'chr\\d+_analysis_exome\\.frq', f)]\n",
    "rsIDFiles_Malay = [f for f in os.listdir(workingFolder_Malay) if re.match(r'chr\\d+_rsID', f)]\n",
    "freqFiles_Chinese = [f for f in os.listdir(workingFolder_Chinese) if re.match(r'chr\\d+_analysis_exome\\.frq', f)]\n",
    "rsIDFiles_Chinese = [f for f in os.listdir(workingFolder_Chinese) if re.match(r'chr\\d+_rsID', f)]\n",
    "\n",
    "freqFilesID_pre = re.compile(r'(chr\\d+)_analysis_exome\\.frq')\n",
    "freqFilesID = []\n",
    "for file in freqFiles_Indian:\n",
    "    freqFilesID.append(freqFilesID_pre.findall(file))\n",
    "\n",
    "print(freqFilesID)"
   ]
  },
  {
   "cell_type": "code",
   "execution_count": null,
   "metadata": {
    "collapsed": true
   },
   "outputs": [],
   "source": [
    "# Obtain dataset\n",
    "\n",
    "dbfile, datafile, table = 'dbase_Sqlite_Malay', 'data.txt', 'people'\n",
    "\n",
    "\n",
    "freqDF_Indian = spark.createDataFrame([], schema_Freq_DF)\n",
    "freqDF_Malay = spark.createDataFrame([], schema_Freq_DF)\n",
    "freqDF_Chinese = spark.createDataFrame([], schema_Freq_DF)\n",
    "\n",
    "for ID in freqFilesID:\n",
    "    df1 = spark.read.csv(workingFolder_Indian + ID[0] + \"_analysis_exome.frq\", header=True, schema=schema_Freq, sep='\\t').alias('df1')\n",
    "    df2 = spark.read.csv(workingFolder_Indian + ID[0] + \"_rsID\", header=False, schema=schema_rsID, sep='\\t').alias('df2')\n",
    "    freqChrN_working = df2.join(df1, df2.POS == df1.POS).select('df1.*','df2.ID')\n",
    "    freqDF_Indian = freqDF_Indian.union(freqChrN_working)\n",
    "    \n",
    "for ID in freqFilesID:\n",
    "    df1 = spark.read.csv(workingFolder_Malay + ID[0] + \"_analysis_exome.frq\", header=True, schema=schema_Freq, sep='\\t').alias('df1')\n",
    "    df2 = spark.read.csv(workingFolder_Malay + ID[0] + \"_rsID\", header=False, schema=schema_rsID, sep='\\t').alias('df2')\n",
    "    freqChrN_working = df2.join(df1, df2.POS == df1.POS).select('df1.*','df2.ID')\n",
    "    freqDF_Malay = freqDF_Malay.union(freqChrN_working)\n",
    "\n",
    "for ID in freqFilesID:\n",
    "    df1 = spark.read.csv(workingFolder_Chinese + ID[0] + \"_analysis_exome.frq\", header=True, schema=schema_Freq, sep='\\t').alias('df1')\n",
    "    df2 = spark.read.csv(workingFolder_Chinese + ID[0] + \"_rsID\", header=False, schema=schema_rsID, sep='\\t').alias('df2')\n",
    "    freqChrN_working = df2.join(df1, df2.POS == df1.POS).select('df1.*','df2.ID')\n",
    "    freqDF_Chinese = freqDF_Chinese.union(freqChrN_working) "
   ]
  }
 ],
 "metadata": {
  "kernelspec": {
   "display_name": "Python 3",
   "language": "python",
   "name": "python3"
  },
  "language_info": {
   "codemirror_mode": {
    "name": "ipython",
    "version": 3
   },
   "file_extension": ".py",
   "mimetype": "text/x-python",
   "name": "python",
   "nbconvert_exporter": "python",
   "pygments_lexer": "ipython3",
   "version": "3.6.1"
  }
 },
 "nbformat": 4,
 "nbformat_minor": 2
}
