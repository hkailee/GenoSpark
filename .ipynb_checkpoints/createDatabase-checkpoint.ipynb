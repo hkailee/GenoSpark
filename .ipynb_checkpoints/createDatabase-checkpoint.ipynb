{
 "cells": [
  {
   "cell_type": "markdown",
   "metadata": {},
   "source": [
    "# GenoSpark for Singapore population genotypic frequency\n",
    "\n",
    "## First, generate the output files with the command syntax below:\n",
    "```\n",
    "$ vcftools --gzvcf chr[#].consolidate.eff.PPH.vcf.gz --freq --chr [#] --out chr[#]_analysis\n",
    "$ bcftools query -f '%CHROM\\t%POS\\t%ID\\n' chr[#].consolidate.eff.PPH.vcf.gz -o chr[#]_rsID\n",
    "```\n",
    "\n",
    "#### * You may try freqGenerator.sh to generate the above files"
   ]
  },
  {
   "cell_type": "code",
   "execution_count": 1,
   "metadata": {
    "collapsed": true
   },
   "outputs": [],
   "source": [
    "#!/usr/bin/env python3.5\n",
    "\n",
    "__author__ = 'mdc_hk'\n",
    "version = '1.0'\n",
    "\n",
    "# Description: To build the database on the pyspark DataFrame\n",
    "# Usage: -\n",
    "# Example: -"
   ]
  },
  {
   "cell_type": "code",
   "execution_count": 2,
   "metadata": {
    "collapsed": true
   },
   "outputs": [],
   "source": [
    "import datetime, multiprocessing, os, re, shutil, sys, subprocess, time, logging\n",
    "\n",
    "import pyspark.sql.types as typ\n",
    "from pyspark.sql.functions import lit\n",
    "\n",
    "\n",
    "# Specify schemas\n",
    "\n",
    "schema_Freq = typ.StructType([\n",
    "    typ.StructField(\"CHROM\", typ.IntegerType(), False),\n",
    "    typ.StructField(\"POS\", typ.IntegerType(), False),\n",
    "    typ.StructField(\"N_ALLELES\", typ.IntegerType(), False),\n",
    "    typ.StructField(\"N_CHR\", typ.IntegerType(), False),\n",
    "    typ.StructField(\"ALLELE_FREQ_1\", typ.StringType(), False),\n",
    "    typ.StructField(\"ALLELE_FREQ_2\", typ.StringType(), False),\n",
    "])\n",
    "\n",
    "schema_rsID = typ.StructType([\n",
    "    typ.StructField(\"CHROM\", typ.IntegerType(), False),\n",
    "    typ.StructField(\"POS\", typ.IntegerType(), False),\n",
    "    typ.StructField(\"ID\", typ.StringType(), True),\n",
    "])\n",
    "\n",
    "schema_Freq_DF = typ.StructType([\n",
    "    typ.StructField(\"CHROM\", typ.IntegerType(), False),\n",
    "    typ.StructField(\"POS\", typ.IntegerType(), False),\n",
    "    typ.StructField(\"N_ALLELES\", typ.IntegerType(), False),\n",
    "    typ.StructField(\"N_CHR\", typ.IntegerType(), False),\n",
    "    typ.StructField(\"ALLELE_FREQ_1\", typ.StringType(), False),\n",
    "    typ.StructField(\"ALLELE_FREQ_2\", typ.StringType(), False),\n",
    "    typ.StructField(\"ID\", typ.StringType(), True),\n",
    "])\n"
   ]
  },
  {
   "cell_type": "code",
   "execution_count": 3,
   "metadata": {},
   "outputs": [
    {
     "name": "stdout",
     "output_type": "stream",
     "text": [
      "[['chr11'], ['chr1'], ['chr10'], ['chr9'], ['chr2'], ['chr3'], ['chr4'], ['chr5'], ['chr6'], ['chr7'], ['chr8'], ['chr12'], ['chr13'], ['chr14'], ['chr15'], ['chr16'], ['chr17'], ['chr18'], ['chr19'], ['chr20'], ['chr21'], ['chr22']]\n"
     ]
    }
   ],
   "source": [
    "# Setting up File Paths and Lists\n",
    "\n",
    "workingFolder_Indian = os.getcwd() + \"/SgIndian_vcf/dataFreeze_Feb2013/SNP/biAllele/\"\n",
    "workingFolder_Malay = os.getcwd() + \"/SgMalay_vcf/2012_05/snps/\"\n",
    "\n",
    "# Filing number of unique samples found in the working folder...\n",
    "\n",
    "freqFiles_Indian = [f for f in os.listdir(workingFolder_Indian) if re.match(r'chr\\d+_analysis\\.frq', f)]\n",
    "rsIDFiles_Indian = [f for f in os.listdir(workingFolder_Indian) if re.match(r'chr\\d+_rsID', f)]\n",
    "freqFiles_Malay = [f for f in os.listdir(workingFolder_Malay) if re.match(r'chr\\d+_analysis\\.frq', f)]\n",
    "rsIDFiles_Malay = [f for f in os.listdir(workingFolder_Malay) if re.match(r'chr\\d+_rsID', f)]\n",
    "\n",
    "freqFilesID_pre = re.compile(r'(chr\\d+)_analysis\\.frq')\n",
    "freqFilesID = []\n",
    "for file in freqFiles_Indian:\n",
    "    freqFilesID.append(freqFilesID_pre.findall(file))\n",
    "\n",
    "print(freqFilesID)"
   ]
  },
  {
   "cell_type": "code",
   "execution_count": 4,
   "metadata": {
    "collapsed": true,
    "scrolled": true
   },
   "outputs": [],
   "source": [
    "# Obtain dataset\n",
    "\n",
    "# suffixFreqID = ['_analysis.frq', '_rsID']\n",
    "freqDF_Indian = spark.createDataFrame([], schema_Freq_DF)\n",
    "freqDF_Malay = spark.createDataFrame([], schema_Freq_DF)\n",
    "\n",
    "for ID in freqFilesID:\n",
    "    df1 = spark.read.csv(workingFolder_Indian + ID[0] + \"_analysis.frq\", header=True, schema=schema_Freq, sep='\\t').alias('df1')\n",
    "    df2 = spark.read.csv(workingFolder_Indian + ID[0] + \"_rsID\", header=False, schema=schema_rsID, sep='\\t').alias('df2')\n",
    "    freqChrN_working = df2.join(df1, df2.POS == df1.POS).select('df1.*','df2.ID')\n",
    "    freqDF_Indian = freqDF_Indian.union(freqChrN_working)\n",
    "    \n",
    "for ID in freqFilesID:\n",
    "    df1 = spark.read.csv(workingFolder_Malay + ID[0] + \"_analysis.frq\", header=True, schema=schema_Freq, sep='\\t').alias('df1')\n",
    "    df2 = spark.read.csv(workingFolder_Malay + ID[0] + \"_rsID\", header=False, schema=schema_rsID, sep='\\t').alias('df2')\n",
    "    freqChrN_working = df2.join(df1, df2.POS == df1.POS).select('df1.*','df2.ID')\n",
    "    freqDF_Malay = freqDF_Malay.union(freqChrN_working)\n",
    "    "
   ]
  },
  {
   "cell_type": "code",
   "execution_count": 5,
   "metadata": {
    "collapsed": true
   },
   "outputs": [],
   "source": [
    "freqDF_Indian_working = freqDF_Indian.withColumn(\"ETHNIC\", lit(\"Indian\"))\n",
    "freqDF_Malay_working = freqDF_Malay.withColumn(\"ETHNIC\", lit(\"Malay\"))\n",
    "freqDF_working = freqDF_Malay_working.union(freqDF_Indian_working)"
   ]
  },
  {
   "cell_type": "code",
   "execution_count": 6,
   "metadata": {},
   "outputs": [
    {
     "name": "stdout",
     "output_type": "stream",
     "text": [
      "+-----+------+---------+-----+-------------+-------------+-----------+------+\n",
      "|CHROM|   POS|N_ALLELES|N_CHR|ALLELE_FREQ_1|ALLELE_FREQ_2|         ID|ETHNIC|\n",
      "+-----+------+---------+-----+-------------+-------------+-----------+------+\n",
      "|   11|103739|        2|   30|   T:0.933333|  C:0.0666667|          .|Indian|\n",
      "|   11|104469|        2|   14|   G:0.714286|   A:0.285714| SSPM_MATCH|Indian|\n",
      "|   11|105023|        2|   42|   G:0.928571|  A:0.0714286|          .|Indian|\n",
      "|   11|105073|        2|   46|   G:0.956522|  A:0.0434783|          .|Indian|\n",
      "|   11|111159|        2|   68|   T:0.897059|   C:0.102941|          .|Indian|\n",
      "|   11|124986|        2|   24|   G:0.583333|   A:0.416667| SSPM_MATCH|Indian|\n",
      "|   11|150695|        2|   42|   C:0.880952|   T:0.119048| SSPM_MATCH|Indian|\n",
      "|   11|153453|        2|   46|   A:0.152174|   G:0.847826|rs187516525|Indian|\n",
      "|   11|158635|        2|   46|  C:0.0434783|   T:0.956522|  rs4109479|Indian|\n",
      "|   11|191770|        2|   72|   C:0.930556|  T:0.0694444| SSPM_MATCH|Indian|\n",
      "+-----+------+---------+-----+-------------+-------------+-----------+------+\n",
      "only showing top 10 rows\n",
      "\n",
      "+------+---------+-----+-------------+-------------+\n",
      "|ETHNIC|       ID|CHROM|ALLELE_FREQ_1|ALLELE_FREQ_2|\n",
      "+------+---------+-----+-------------+-------------+\n",
      "|Indian|rs4109479|   11|  C:0.0434783|   T:0.956522|\n",
      "+------+---------+-----+-------------+-------------+\n",
      "\n"
     ]
    }
   ],
   "source": [
    "freqDF_working.show(10)\n",
    "freqDF_working.select(\"ETHNIC\", \"ID\", \"CHROM\", \"ALLELE_FREQ_1\", \"ALLELE_FREQ_2\").filter(\"ID == 'rs4109479'\").show()"
   ]
  },
  {
   "cell_type": "code",
   "execution_count": 7,
   "metadata": {
    "collapsed": true
   },
   "outputs": [],
   "source": [
    "# spark.sql(\"select * from freqDF\").show(10)"
   ]
  },
  {
   "cell_type": "code",
   "execution_count": null,
   "metadata": {
    "collapsed": true
   },
   "outputs": [],
   "source": [
    "print('Count of rows: {0}'.format(freqDF.count()))\n",
    "freqDF.printSchema()"
   ]
  },
  {
   "cell_type": "code",
   "execution_count": null,
   "metadata": {
    "collapsed": true
   },
   "outputs": [],
   "source": [
    "freqDF_working.select(freqDF_working.ID, freqDF_working.ALLELE_FREQ_1, freqDF_working.ALLELE_FREQ_2).filter(freqDF_working.ID == \"rs4109479\").show()\n",
    "freqDF_working.select(\"ID\", \"CHROM\", \"ALLELE_FREQ_1\", \"ALLELE_FREQ_2\").filter(\"ID == 'rs4109479'\").show()\n",
    "spark.sql(\"select ID, ALLELE_FREQ_1, ALLELE_FREQ_2 from freqDF_working where ID = 'rs4109479'\").show()"
   ]
  },
  {
   "cell_type": "code",
   "execution_count": 1,
   "metadata": {
    "collapsed": true
   },
   "outputs": [],
   "source": [
    "# print('Count of rows: {0}'.format(freqDF_working.count()))\n",
    "# print('Count of distinct rows: {0}'.format(freqDF_working.distinct().count()))\n",
    "# freqDF_working = freqDF_working.dropDuplicates()\n",
    "# print('Count of rows: {0}'.format(freqDF_working.count()))\n",
    "# print('Count of distinct rows: {0}'.format(freqDF_working.distinct().count()))\n",
    "# print('Count of IDs: {0}'.format(freqDF_working.count()))\n",
    "# print('Count of distinct IDs: {0}'.format(freqDF_working.select(freqDF_working.ID).distinct().count()))\n",
    "# freqDF_working.where(\"ID = '.'\").show(10)"
   ]
  }
 ],
 "metadata": {
  "kernelspec": {
   "display_name": "Python 3",
   "language": "python",
   "name": "python3"
  },
  "language_info": {
   "codemirror_mode": {
    "name": "ipython",
    "version": 3
   },
   "file_extension": ".py",
   "mimetype": "text/x-python",
   "name": "python",
   "nbconvert_exporter": "python",
   "pygments_lexer": "ipython3",
   "version": "3.6.1"
  }
 },
 "nbformat": 4,
 "nbformat_minor": 2
}
