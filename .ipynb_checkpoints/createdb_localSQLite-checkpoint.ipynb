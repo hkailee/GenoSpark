{
 "cells": [
  {
   "cell_type": "code",
   "execution_count": 7,
   "metadata": {
    "collapsed": true
   },
   "outputs": [],
   "source": [
    "import datetime, multiprocessing, logging, os, re, shutil, sys, sqlite3, subprocess, time\n",
    "import pandas as pd\n",
    "from utils import *\n",
    "\n",
    "##################\n",
    "### Administration\n",
    "##################\n",
    "logging.basicConfig(filename= 'log.txt', level=logging.INFO, \n",
    "                    format='%(asctime)s - %(levelname)s - %(message)s')"
   ]
  },
  {
   "cell_type": "code",
   "execution_count": 2,
   "metadata": {
    "collapsed": true
   },
   "outputs": [],
   "source": [
    "makedb('dbase_Sqlite', 'Malay_Data', \"(CHROM int(2), POS int(10), N_ALLELES int(1), N_CHR int(4), ALLELE_FREQ_1 float(7,6), ALLELE_FREQ_2 float(7,6))\")\n",
    "makedb('dbase_Sqlite', 'Malay_rsID', \"(CHROM int(2), POS int(10), ID str(15))\")\n",
    "makedb('dbase_Sqlite', 'Indian_Data', \"(CHROM int(2), POS int(10), N_ALLELES int(1), N_CHR int(4), ALLELE_FREQ_1 float(7,6), ALLELE_FREQ_2 float(7,6))\")\n",
    "makedb('dbase_Sqlite', 'Indian_rsID', \"(CHROM int(2), POS int(10), ID str(15))\")\n",
    "makedb('dbase_Sqlite', 'Chinese_Data', \"(CHROM int(2), POS int(10), N_ALLELES int(1), N_CHR int(4), ALLELE_FREQ_1 float(7,6), ALLELE_FREQ_2 float(7,6))\")\n",
    "makedb('dbase_Sqlite', 'Chinese_rsID', \"(CHROM int(2), POS int(10), ID str(15))\")"
   ]
  },
  {
   "cell_type": "code",
   "execution_count": 3,
   "metadata": {},
   "outputs": [
    {
     "name": "stdout",
     "output_type": "stream",
     "text": [
      "[['chr1'], ['chr2'], ['chr3'], ['chr4'], ['chr5'], ['chr6'], ['chr7'], ['chr8'], ['chr9'], ['chr10'], ['chr11'], ['chr12'], ['chr13'], ['chr14'], ['chr15'], ['chr16'], ['chr17'], ['chr18'], ['chr19'], ['chr20'], ['chr21'], ['chr22']]\n"
     ]
    }
   ],
   "source": [
    "workingFolder_Indian = \"SgIndian_vcf/dataFreeze_Feb2013/SNP/biAllele/\"\n",
    "\n",
    "workingFolder_Malay = \"SgMalay_vcf/2012_05/snps/\"\n",
    "\n",
    "workingFolder_Chinese = \"1000G/Phase3/integrated/\"\n",
    "\n",
    "# Filing number of unique samples found in the working folder...\n",
    "\n",
    "freqFiles_Indian = [f for f in os.listdir(workingFolder_Indian) if re.match(r'chr\\d+_analysis_exome\\.frq', f)]\n",
    "rsIDFiles_Indian = [f for f in os.listdir(workingFolder_Indian) if re.match(r'chr\\d+_rsID', f)]\n",
    "freqFiles_Malay = [f for f in os.listdir(workingFolder_Malay) if re.match(r'chr\\d+_analysis_exome\\.frq', f)]\n",
    "rsIDFiles_Malay = [f for f in os.listdir(workingFolder_Malay) if re.match(r'chr\\d+_rsID', f)]\n",
    "freqFiles_Chinese = [f for f in os.listdir(workingFolder_Chinese) if re.match(r'chr\\d+_analysis_exome\\.frq', f)]\n",
    "rsIDFiles_Chinese = [f for f in os.listdir(workingFolder_Chinese) if re.match(r'chr\\d+_rsID', f)]\n",
    "\n",
    "freqFilesID_pre = re.compile(r'(chr\\d+)_analysis_exome\\.frq')\n",
    "freqFilesID = []\n",
    "for file in freqFiles_Indian:\n",
    "    freqFilesID.append(freqFilesID_pre.findall(file))\n",
    "\n",
    "print(freqFilesID)"
   ]
  },
  {
   "cell_type": "code",
   "execution_count": 24,
   "metadata": {
    "collapsed": true
   },
   "outputs": [],
   "source": [
    "cleardb('dbase_Sqlite', 'Malay_rsID')"
   ]
  },
  {
   "cell_type": "markdown",
   "metadata": {},
   "source": [
    "## > Processing the Malay vcf to generate rsID table\n",
    "### >>> created only for the Singapore Malay vcf as command below produced error as such:: \n",
    "```\n",
    "    $ bcftools query -f '%CHROM\\t%POS\\t%ID\\n' SSM.chr8.2012_05.genotypes.vcf.gz -o chr8_rsID \n",
    "    $ [E::bcf_hdr_add_sample] Empty sample name: trailing spaces/tabs in the header line?\n",
    "```"
   ]
  },
  {
   "cell_type": "code",
   "execution_count": 21,
   "metadata": {},
   "outputs": [
    {
     "name": "stdout",
     "output_type": "stream",
     "text": [
      "2017/09/13 11:03:08 - gunzip completed: Took 0.13221001625061035 seconds to complete.\n"
     ]
    }
   ],
   "source": [
    "# to gunzip vcf.gz for Malay only\n",
    "startTime = time.time()\n",
    "for ID in freqFilesID:\n",
    "    #print('gunzip '+  workingFolder_Malay + '/SSM.' + ID[0] + '.2012_05.genotypes.vcf.gz')\n",
    "    try:\n",
    "        proc1 = subprocess.Popen(['gunzip', workingFolder_Malay + '/SSM.' + ID[0] + '.2012_05.genotypes.vcf.gz'],\n",
    "                             stdin=subprocess.PIPE, stdout=subprocess.PIPE)\n",
    "        out, err = proc1.communicate()\n",
    "        logging.info('gunzip ' +  workingFolder_Malay + '/SSM.' + ID[0] + '.2012_05.genotypes.vcf.gz')\n",
    "    except:\n",
    "        logging.info(workingFolder_Malay + '/SSM.' + ID[0] + '.2012_05.genotypes.vcf.gz not present')\n",
    "        pass\n",
    "timeTaken = time.time()-startTime \n",
    "print(datetime.datetime.now().strftime('%Y/%m/%d %H:%M:%S'), \n",
    "      '- gunzip completed: Took {} seconds to complete.'.format(timeTaken))"
   ]
  },
  {
   "cell_type": "code",
   "execution_count": null,
   "metadata": {},
   "outputs": [
    {
     "name": "stdout",
     "output_type": "stream",
     "text": [
      "1083000 rows loaded\n",
      "1133594 rows loaded\n",
      "968661 rows loaded\n",
      "971842 rows loaded\n",
      "867221 rows loaded\n"
     ]
    }
   ],
   "source": [
    "# Manually load data from a raw vcf for Malay population only\n",
    "startTime = time.time()\n",
    "for ID in freqFilesID:    \n",
    "    loaddb_vcf_rsID('Malay_rsID', 'dbase_Sqlite', workingFolder_Malay + '/SSM.' + ID[0] + '.2012_05.genotypes.vcf')\n",
    "    logging.info('Inserting values from ' +  workingFolder_Malay + 'SSM.' + ID[0] + \n",
    "                 '.2012_05.genotypes.vcf to Malay_rsID table of dbase_Sqlite database')\n",
    "timeTaken = time.time()-startTime \n",
    "print(datetime.datetime.now().strftime('%Y/%m/%d %H:%M:%S'), \n",
    "      '- Data Loading for Malay_rsID of dbase_Sqlite database completed: Took {} seconds to complete.'.format(timeTaken))"
   ]
  },
  {
   "cell_type": "markdown",
   "metadata": {},
   "source": [
    "## > Processing the rest of the tables"
   ]
  },
  {
   "cell_type": "code",
   "execution_count": null,
   "metadata": {
    "collapsed": true
   },
   "outputs": [],
   "source": [
    "# For Malay Data\n",
    "startTime = time.time()\n",
    "\n",
    "for ID in freqFilesID:\n",
    "    loaddb('Malay_Data', 'dbase_Sqlite', workingFolder_Malay + ID[0] +'_analysis_exome.frq')\n",
    "    logging.info('Inserting values from ' +  workingFolder_Malay + ID[0] + '_analysis_exome.frq '\n",
    "                 'to Malay_Data table of dbase_Sqlite database')\n",
    "timeTaken = time.time()-startTime \n",
    "print(datetime.datetime.now().strftime('%Y/%m/%d %H:%M:%S'), \n",
    "      '- Data Loading for Malay_Data table of dbase_Sqlite database completed: Took {} '\n",
    "      'seconds to complete.'.format(timeTaken))"
   ]
  },
  {
   "cell_type": "code",
   "execution_count": null,
   "metadata": {
    "collapsed": true
   },
   "outputs": [],
   "source": [
    "# For Indian Data and rsID\n",
    "startTime = time.time()\n",
    "\n",
    "for ID in freqFilesID:\n",
    "    loaddb('Indian_Data', 'dbase_Sqlite', workingFolder_Indian + ID[0] +'_analysis_exome.frq')\n",
    "    logging.info('Inserting values from ' +  workingFolder_Indian + ID[0] + '_analysis_exome.frq '\n",
    "                 'to Indian_Data table of dbase_Sqlite database')\n",
    "timeTaken = time.time()-startTime \n",
    "print(datetime.datetime.now().strftime('%Y/%m/%d %H:%M:%S'), \n",
    "      '- Data Loading for Indian_Data table of dbase_Sqlite database completed: Took {} '\n",
    "      'seconds to complete.'.format(timeTaken))\n",
    "\n",
    "for ID in freqFilesID:\n",
    "    loaddb('Indian_rsID', 'dbase_Sqlite', workingFolder_Indian + ID[0] +'_rsID')\n",
    "    logging.info('Inserting values from ' +  workingFolder_Indian + ID[0] + '_analysis_exome.frq '\n",
    "                 'to Indian_rsID table of dbase_Sqlite database')\n",
    "timeTaken = time.time()-startTime \n",
    "print(datetime.datetime.now().strftime('%Y/%m/%d %H:%M:%S'), \n",
    "      '- Data Loading for Indian_rsID table of dbase_Sqlite database completed: Took {} '\n",
    "      'seconds to complete.'.format(timeTaken))"
   ]
  },
  {
   "cell_type": "code",
   "execution_count": null,
   "metadata": {
    "collapsed": true
   },
   "outputs": [],
   "source": [
    "# For Chinese Data and rsID\n",
    "startTime = time.time()\n",
    "\n",
    "for ID in freqFilesID:\n",
    "    loaddb('Chinese_Data', 'dbase_Sqlite', workingFolder_Chinese + ID[0] +'_analysis_exome.frq')\n",
    "    logging.info('Inserting values from ' +  workingFolder_Chinese + ID[0] + '_analysis_exome.frq '\n",
    "                 'to Chinese_Data table of dbase_Sqlite database')\n",
    "timeTaken = time.time()-startTime \n",
    "print(datetime.datetime.now().strftime('%Y/%m/%d %H:%M:%S'), \n",
    "      '- Data Loading for Chinese_Data table of dbase_Sqlite database completed: Took {} '\n",
    "      'seconds to complete.'.format(timeTaken))\n",
    "\n",
    "for ID in freqFilesID:\n",
    "    loaddb('Chinese_rsID', 'dbase_Sqlite', workingFolder_Chinese + ID[0] +'_rsID')\n",
    "    logging.info('Inserting values from ' +  workingFolder_Chinese + ID[0] + '_analysis_exome.frq '\n",
    "                 'to Chinese_rsID table of dbase_Sqlite database')\n",
    "timeTaken = time.time()-startTime \n",
    "print(datetime.datetime.now().strftime('%Y/%m/%d %H:%M:%S'), \n",
    "      '- Data Loading for Chinese_rsID table of dbase_Sqlite database completed: Took {} '\n",
    "      'seconds to complete.'.format(timeTaken))"
   ]
  },
  {
   "cell_type": "code",
   "execution_count": null,
   "metadata": {},
   "outputs": [],
   "source": [
    "conn = sqlite3.connect('dbase_Sqlite')\n",
    "df = pd.read_sql_query(\"select * from Malay_rsID limit 12\", conn)\n",
    "df"
   ]
  },
  {
   "cell_type": "code",
   "execution_count": null,
   "metadata": {},
   "outputs": [],
   "source": [
    "# Obtain dataset\n",
    "\n",
    "# for ID in freqFilesID:\n",
    "#     loaddb('Indian', 'dbase_Sqlite', workingFolder_Indian + ID)\n",
    "#     df2 = csv.read(workingFolder_Indian + ID[0] + \"_rsID\", header=False, schema=schema_rsID, sep='\\t').alias('df2')\n",
    "#     freqChrN_working = df2.join(df1, df2.POS == df1.POS).select('df1.*','df2.ID')\n",
    "#     freqDF_Indian = freqDF_Indian.union(freqChrN_working)\n",
    "    \n",
    "# for ID in freqFilesID:\n",
    "#     df1 = csv.read(workingFolder_Malay + ID[0] + \"_analysis_exome.frq\", header=True, schema=schema_Freq, sep='\\t').alias('df1')\n",
    "#     df2 = os.read.csv(workingFolder_Malay + ID[0] + \"_rsID\", header=False, schema=schema_rsID, sep='\\t').alias('df2')\n",
    "#     freqChrN_working = df2.join(df1, df2.POS == df1.POS).select('df1.*','df2.ID')\n",
    "#     freqDF_Malay = freqDF_Malay.union(freqChrN_working)\n",
    "\n",
    "# for ID in freqFilesID:\n",
    "#     df1 = os.read.csv(workingFolder_Chinese + ID[0] + \"_analysis_exome.frq\", header=True, schema=schema_Freq, sep='\\t').alias('df1')\n",
    "#     df2 = os.read.csv(workingFolder_Chinese + ID[0] + \"_rsID\", header=False, schema=schema_rsID, sep='\\t').alias('df2')\n",
    "#     freqChrN_working = df2.join(df1, df2.POS == df1.POS).select('df1.*','df2.ID')\n",
    "#     freqDF_Chinese = freqDF_Chinese.union(freqChrN_working) "
   ]
  },
  {
   "cell_type": "code",
   "execution_count": null,
   "metadata": {
    "collapsed": true
   },
   "outputs": [],
   "source": []
  }
 ],
 "metadata": {
  "kernelspec": {
   "display_name": "Python 3",
   "language": "python",
   "name": "python3"
  },
  "language_info": {
   "codemirror_mode": {
    "name": "ipython",
    "version": 3
   },
   "file_extension": ".py",
   "mimetype": "text/x-python",
   "name": "python",
   "nbconvert_exporter": "python",
   "pygments_lexer": "ipython3",
   "version": "3.6.1"
  }
 },
 "nbformat": 4,
 "nbformat_minor": 2
}
