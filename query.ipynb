{
 "cells": [
  {
   "cell_type": "code",
   "execution_count": 1,
   "metadata": {
    "collapsed": true
   },
   "outputs": [],
   "source": [
    "import os, sqlite3, xlrd\n",
    "import pandas as pd"
   ]
  },
  {
   "cell_type": "code",
   "execution_count": 13,
   "metadata": {},
   "outputs": [
    {
     "data": {
      "text/plain": [
       "Index(['Sample', 'Gene', 'Variant', 'Chr', 'Coordinate', 'Variant Length',\n",
       "       'Type', 'Genotype', 'Exonic', 'Filters', 'Quality', 'GQX',\n",
       "       'Alternate Alleles', 'Inherited From', 'Alt Variant Freq', 'Read Depth',\n",
       "       'Alt Read Depth', 'Allelic Depths', 'Custom Annotation',\n",
       "       'Custom Annotation 2', 'Custom Annotation 3', 'Custom Annotation 4',\n",
       "       'Custom Gene Annotation', 'Custom Gene Annotation 2', 'Classification',\n",
       "       'Google Scholar', 'PubMed', 'UCSC Browser', 'Num Transcripts',\n",
       "       'Transcript', 'Consequence', 'cDNA Position', 'CDS Position',\n",
       "       'Protein Position', 'Amino Acids', 'Codons', 'Exon', 'Intron',\n",
       "       'Transcript HGNC', 'Distance', 'Canonical', 'Sift', 'PolyPhen', 'ENSP',\n",
       "       'HGVSc', 'HGVSp', 'dbSNP ID', 'Ancestral Allele', 'Allele Freq',\n",
       "       'Allele Freq Global Minor', 'Global Minor Allele', 'Allele Freq Amr',\n",
       "       'Allele Freq Asn', 'Allele Freq Af', 'Allele Freq Eur',\n",
       "       'Allele Freq Evs', 'EVS Coverage', 'EVS Samples', 'Conserved Sequence',\n",
       "       'COSMIC ID', 'COSMIC Wildtype', 'COSMIC Allele', 'COSMIC Gene',\n",
       "       'COSMIC Primary Site', 'COSMIC Histology', 'ClinVar RS', 'ClinVar Ref',\n",
       "       'ClinVar Alleles', 'ClinVar Allele Type', 'ClinVar Significance',\n",
       "       'ClinVar Disease Name', 'ClinVar Accession', 'ClinVar MedGen',\n",
       "       'ClinVar OMIM', 'ClinVar Orphanet', 'ClinVar GeneReviews',\n",
       "       'ClinVar SnoMedCt ID', 'Regulatory Feature', 'HGNC'],\n",
       "      dtype='object')"
      ]
     },
     "execution_count": 13,
     "metadata": {},
     "output_type": "execute_result"
    }
   ],
   "source": [
    "xls_file = pd.ExcelFile('query.xlsx')\n",
    "table = xls_file.parse('All Samples')\n",
    "chrom = [x for x in table['Chr'].unique()[:-1]]\n",
    "table.columns"
   ]
  },
  {
   "cell_type": "code",
   "execution_count": null,
   "metadata": {},
   "outputs": [],
   "source": [
    "#df = table.set_index(['Chr'], drop = False)\n",
    "# table.index\n",
    "for i in table.index:\n",
    "    for chromosome in chrom:\n",
    "        if table.iloc[i][chromosome] == 1:\n",
    "            coordina = table.iloc[i]['Coordinate']\n",
    "            conn = sqlite3.connect('dbase_Sqlite')\n",
    "            df = pd.read_sql_query(\"SELECT * FROM Indian WHERE POS=\" + str(coordina) , conn)\n",
    "            print(df)"
   ]
  },
  {
   "cell_type": "code",
   "execution_count": null,
   "metadata": {
    "collapsed": true,
    "scrolled": true
   },
   "outputs": [],
   "source": []
  },
  {
   "cell_type": "code",
   "execution_count": null,
   "metadata": {
    "collapsed": true
   },
   "outputs": [],
   "source": []
  }
 ],
 "metadata": {
  "kernelspec": {
   "display_name": "Python 3",
   "language": "python",
   "name": "python3"
  },
  "language_info": {
   "codemirror_mode": {
    "name": "ipython",
    "version": 3
   },
   "file_extension": ".py",
   "mimetype": "text/x-python",
   "name": "python",
   "nbconvert_exporter": "python",
   "pygments_lexer": "ipython3",
   "version": "3.6.1"
  }
 },
 "nbformat": 4,
 "nbformat_minor": 2
}
